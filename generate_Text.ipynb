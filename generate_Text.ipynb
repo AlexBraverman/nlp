{
 "cells": [
  {
   "cell_type": "code",
   "execution_count": 2,
   "metadata": {},
   "outputs": [
    {
     "name": "stdout",
     "output_type": "stream",
     "text": [
      "Requirement already satisfied: transformers in /home/vlad/.local/lib/python3.8/site-packages (4.29.2)\n",
      "Requirement already satisfied: packaging>=20.0 in /home/vlad/.local/lib/python3.8/site-packages (from transformers) (23.1)\n",
      "Requirement already satisfied: tokenizers!=0.11.3,<0.14,>=0.11.1 in /home/vlad/.local/lib/python3.8/site-packages (from transformers) (0.13.3)\n",
      "Requirement already satisfied: regex!=2019.12.17 in /home/vlad/.local/lib/python3.8/site-packages (from transformers) (2023.5.5)\n",
      "Requirement already satisfied: numpy>=1.17 in /home/vlad/.local/lib/python3.8/site-packages (from transformers) (1.19.5)\n",
      "Requirement already satisfied: tqdm>=4.27 in /home/vlad/.local/lib/python3.8/site-packages (from transformers) (4.65.0)\n",
      "Requirement already satisfied: pyyaml>=5.1 in /home/vlad/.local/lib/python3.8/site-packages (from transformers) (5.4.1)\n",
      "Requirement already satisfied: requests in /usr/lib/python3/dist-packages (from transformers) (2.22.0)\n",
      "Requirement already satisfied: filelock in /home/vlad/.local/lib/python3.8/site-packages (from transformers) (3.12.0)\n",
      "Requirement already satisfied: huggingface-hub<1.0,>=0.14.1 in /home/vlad/.local/lib/python3.8/site-packages (from transformers) (0.14.1)\n",
      "Requirement already satisfied: typing-extensions>=3.7.4.3 in /home/vlad/.local/lib/python3.8/site-packages (from huggingface-hub<1.0,>=0.14.1->transformers) (3.7.4.3)\n",
      "Requirement already satisfied: fsspec in /usr/lib/python3/dist-packages (from huggingface-hub<1.0,>=0.14.1->transformers) (0.6.1)\n"
     ]
    }
   ],
   "source": [
    "!pip install transformers"
   ]
  },
  {
   "cell_type": "code",
   "execution_count": 5,
   "metadata": {},
   "outputs": [],
   "source": [
    "import tensorflow as tf\n",
    "from transformers import GPT2LMHeadModel, GPT2Tokenizer "
   ]
  },
  {
   "cell_type": "code",
   "execution_count": 4,
   "metadata": {},
   "outputs": [
    {
     "data": {
      "application/vnd.jupyter.widget-view+json": {
       "model_id": "da0622c046c34e82b868ef173c6ec5fd",
       "version_major": 2,
       "version_minor": 0
      },
      "text/plain": [
       "Downloading (…)olve/main/vocab.json:   0%|          | 0.00/1.04M [00:00<?, ?B/s]"
      ]
     },
     "metadata": {},
     "output_type": "display_data"
    },
    {
     "data": {
      "application/vnd.jupyter.widget-view+json": {
       "model_id": "8ecb7dec39d345a9b1afce2df9d83b44",
       "version_major": 2,
       "version_minor": 0
      },
      "text/plain": [
       "Downloading (…)olve/main/merges.txt:   0%|          | 0.00/456k [00:00<?, ?B/s]"
      ]
     },
     "metadata": {},
     "output_type": "display_data"
    },
    {
     "data": {
      "application/vnd.jupyter.widget-view+json": {
       "model_id": "7c8642a621fa4fa4a963dab9745d7233",
       "version_major": 2,
       "version_minor": 0
      },
      "text/plain": [
       "Downloading (…)lve/main/config.json:   0%|          | 0.00/666 [00:00<?, ?B/s]"
      ]
     },
     "metadata": {},
     "output_type": "display_data"
    }
   ],
   "source": [
    "tokenizer = GPT2Tokenizer.from_pretrained('gpt2-large')"
   ]
  },
  {
   "cell_type": "code",
   "execution_count": 6,
   "metadata": {},
   "outputs": [],
   "source": [
    "tokenizer = GPT2Tokenizer.from_pretrained(\"gpt2-large\")"
   ]
  },
  {
   "cell_type": "code",
   "execution_count": 7,
   "metadata": {},
   "outputs": [
    {
     "data": {
      "application/vnd.jupyter.widget-view+json": {
       "model_id": "4e78ea9fd5c54db3bac1a1d428be8d52",
       "version_major": 2,
       "version_minor": 0
      },
      "text/plain": [
       "Downloading pytorch_model.bin:   0%|          | 0.00/3.25G [00:00<?, ?B/s]"
      ]
     },
     "metadata": {},
     "output_type": "display_data"
    },
    {
     "data": {
      "application/vnd.jupyter.widget-view+json": {
       "model_id": "96b91cebd6764a75a5fdfbff3bade1fb",
       "version_major": 2,
       "version_minor": 0
      },
      "text/plain": [
       "Downloading (…)neration_config.json:   0%|          | 0.00/124 [00:00<?, ?B/s]"
      ]
     },
     "metadata": {},
     "output_type": "display_data"
    }
   ],
   "source": [
    "model = GPT2LMHeadModel.from_pretrained(\"gpt2-large\", pad_token_id=tokenizer.eos_token_id)"
   ]
  },
  {
   "cell_type": "code",
   "execution_count": 22,
   "metadata": {},
   "outputs": [
    {
     "data": {
      "text/plain": [
       "tensor([[13306,   437,   702,   829,   389,   262,  1266,  6844]])"
      ]
     },
     "execution_count": 22,
     "metadata": {},
     "output_type": "execute_result"
    }
   ],
   "source": [
    "sentence = \"Goldendoodles are the best dogs\"\n",
    "input_ids = tokenizer.encode(sentence, return_tensors='pt')\n",
    "input_ids"
   ]
  },
  {
   "cell_type": "code",
   "execution_count": 25,
   "metadata": {},
   "outputs": [
    {
     "data": {
      "text/plain": [
       "tensor([[13306,   437,   702,   829,   389,   262,  1266,  6844,   287,   262,\n",
       "           995,    13,  1119,   389,   523, 13779,   290,   269,  4185,   306,\n",
       "           326,   345,   460,   470,  1037,   475,  2121,   287,  1842,   351,\n",
       "           606,    13,   198,   198,  1532,   345,   389,  2045,   329,   257,\n",
       "          3290,   326,   481,   787,   345,  8212,    11,   788,   804,   645,\n",
       "          2252,   621,   428, 13779,  1310,  3290,    13,   679,   318,   262,\n",
       "          2818, 15185,   329,  2687,   508, 10408,   284,   269, 24500,   510,\n",
       "           351,   257, 40857,  1545,    13,   770,  3290,   318,   523, 29012,\n",
       "           326,   339,   318,  1654,   284,   307,   257,  2277,   351,   534,\n",
       "          1641,   290,  2460,    13,   921,  1839,   470,   307,  1498,   284,\n",
       "          2245, 16755,   618,   345,   766,   428, 29012,  3290,   287,   534,\n",
       "          1363,    13,  1002,   345,   765,   284,   760,   517,   546,   428,\n",
       "          3290,    11,  2198,   503,   262,  2008,  2174,    13,   628,   198,\n",
       "          1212,   318,   530,   286,   262,   749, 29012,  6844,   326,   314,\n",
       "           423,  1683,  1775,    13,   632,   318,   884,   257, 13779,  3290,\n",
       "           290,   314,  1842,   340,   523,   881,    13,   314,   716,  1654,\n",
       "           345,   481,  1842,   428,  1310,  3516,   355,   881,   355,   314,\n",
       "           466,     0,   770,   318,   257,  1049,  3290,   284,   423,   355,\n",
       "           257,  4273,   780,   340,   318,  2562,   284,  1011,  1337,   286,\n",
       "           290,   481,  1464,   307,   612,   329,   345,   611,   345,   761,\n",
       "           340,    13,  1318,   318,   645,  4719,   287,   616,  2000,   326,\n",
       "           428, 26188,   318,  1016,   284,   787,   257,  7932,  3090,   284,\n",
       "           597,  1641,   326,   318,  2045,   284,   751,   257,   649,  2888,\n",
       "           284,   511,  1641,    13, 50256]])"
      ]
     },
     "execution_count": 25,
     "metadata": {},
     "output_type": "execute_result"
    }
   ],
   "source": [
    "# generate text until the output length (which includes the context length) reaches 50\n",
    "output = model.generate(input_ids, max_length=250, min_length = 200 ,num_beams=5, no_repeat_ngram_size=2, early_stopping=False)\n",
    "output"
   ]
  },
  {
   "cell_type": "code",
   "execution_count": 27,
   "metadata": {},
   "outputs": [
    {
     "name": "stdout",
     "output_type": "stream",
     "text": [
      "Goldendoodles are the best dogs in the world. They are so cute and cuddly that you can't help but fall in love with them.\n",
      "\n",
      "If you are looking for a dog that will make you smile, then look no further than this cute little dog. He is the perfect companion for anyone who loves to cuddle up with a furry friend. This dog is so adorable that he is sure to be a hit with your family and friends. You won't be able to stop smiling when you see this adorable dog in your home. If you want to know more about this dog, check out the video below.\n",
      "\n",
      "\n",
      "This is one of the most adorable dogs that I have ever seen. It is such a cute dog and I love it so much. I am sure you will love this little guy as much as I do! This is a great dog to have as a pet because it is easy to take care of and will always be there for you if you need it. There is no doubt in my mind that this puppy is going to make a wonderful addition to any family that is looking to add a new member to their family.\n"
     ]
    }
   ],
   "source": [
    "#print(tokenizer.decode(output[0], skip_special_tokens=True))\n",
    "s = tokenizer.decode(output[0], skip_special_tokens=True)\n",
    "print(s)\n",
    "with open(\"generate.txt\", \"w\") as file:\n",
    "    file.write(s)"
   ]
  }
 ],
 "metadata": {
  "kernelspec": {
   "display_name": "Python 3",
   "language": "python",
   "name": "python3"
  },
  "language_info": {
   "codemirror_mode": {
    "name": "ipython",
    "version": 3
   },
   "file_extension": ".py",
   "mimetype": "text/x-python",
   "name": "python",
   "nbconvert_exporter": "python",
   "pygments_lexer": "ipython3",
   "version": "3.8.10"
  },
  "orig_nbformat": 4
 },
 "nbformat": 4,
 "nbformat_minor": 2
}
